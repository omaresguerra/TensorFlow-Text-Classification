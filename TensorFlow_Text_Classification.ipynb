{
  "nbformat": 4,
  "nbformat_minor": 0,
  "metadata": {
    "colab": {
      "name": "TensorFlow_Text Classification.ipynb",
      "version": "0.3.2",
      "provenance": [],
      "include_colab_link": true
    },
    "kernelspec": {
      "name": "python3",
      "display_name": "Python 3"
    }
  },
  "cells": [
    {
      "cell_type": "markdown",
      "metadata": {
        "id": "view-in-github",
        "colab_type": "text"
      },
      "source": [
        "[View in Colaboratory](https://colab.research.google.com/github/omaresguerra/TensorFlow-Text-Classification/blob/master/TensorFlow_Text_Classification.ipynb)"
      ]
    },
    {
      "metadata": {
        "id": "A5tUcBzqiuX5",
        "colab_type": "code",
        "colab": {
          "base_uri": "https://localhost:8080/",
          "height": 34
        },
        "outputId": "c1a5ec91-049b-494f-faf8-f0aac4e70c21"
      },
      "cell_type": "code",
      "source": [
        "import tensorflow as tf\n",
        "from tensorflow import keras\n",
        "\n",
        "import numpy as np\n",
        "\n",
        "print(tf.__version__)"
      ],
      "execution_count": 1,
      "outputs": [
        {
          "output_type": "stream",
          "text": [
            "1.9.0\n"
          ],
          "name": "stdout"
        }
      ]
    },
    {
      "metadata": {
        "id": "x97H1JYUj9AE",
        "colab_type": "code",
        "colab": {
          "base_uri": "https://localhost:8080/",
          "height": 51
        },
        "outputId": "2edcda9d-1f25-40b7-ee3d-e38add415a2b"
      },
      "cell_type": "code",
      "source": [
        "imdb = keras.datasets.imdb\n",
        "(train_data, train_labels), (test_data, test_labels) = imdb.load_data(num_words=10000)"
      ],
      "execution_count": 2,
      "outputs": [
        {
          "output_type": "stream",
          "text": [
            "Downloading data from https://s3.amazonaws.com/text-datasets/imdb.npz\n",
            "17465344/17464789 [==============================] - 1s 0us/step\n"
          ],
          "name": "stdout"
        }
      ]
    },
    {
      "metadata": {
        "id": "jJjyuTsskV3m",
        "colab_type": "code",
        "colab": {
          "base_uri": "https://localhost:8080/",
          "height": 34
        },
        "outputId": "31346d5c-3f0c-4b04-a992-e54bd8f97f7f"
      },
      "cell_type": "code",
      "source": [
        "print(\"Training entries: {}, labels: {}\".format(len(train_data), len(train_labels)))"
      ],
      "execution_count": 3,
      "outputs": [
        {
          "output_type": "stream",
          "text": [
            "Training entries: 25000, labels: 25000\n"
          ],
          "name": "stdout"
        }
      ]
    },
    {
      "metadata": {
        "id": "6oE-pKJBkrCp",
        "colab_type": "code",
        "colab": {
          "base_uri": "https://localhost:8080/",
          "height": 54
        },
        "outputId": "731b4c09-addf-4150-a0ed-18c1ea157abf"
      },
      "cell_type": "code",
      "source": [
        "print(train_data[0])"
      ],
      "execution_count": 4,
      "outputs": [
        {
          "output_type": "stream",
          "text": [
            "[1, 14, 22, 16, 43, 530, 973, 1622, 1385, 65, 458, 4468, 66, 3941, 4, 173, 36, 256, 5, 25, 100, 43, 838, 112, 50, 670, 2, 9, 35, 480, 284, 5, 150, 4, 172, 112, 167, 2, 336, 385, 39, 4, 172, 4536, 1111, 17, 546, 38, 13, 447, 4, 192, 50, 16, 6, 147, 2025, 19, 14, 22, 4, 1920, 4613, 469, 4, 22, 71, 87, 12, 16, 43, 530, 38, 76, 15, 13, 1247, 4, 22, 17, 515, 17, 12, 16, 626, 18, 2, 5, 62, 386, 12, 8, 316, 8, 106, 5, 4, 2223, 5244, 16, 480, 66, 3785, 33, 4, 130, 12, 16, 38, 619, 5, 25, 124, 51, 36, 135, 48, 25, 1415, 33, 6, 22, 12, 215, 28, 77, 52, 5, 14, 407, 16, 82, 2, 8, 4, 107, 117, 5952, 15, 256, 4, 2, 7, 3766, 5, 723, 36, 71, 43, 530, 476, 26, 400, 317, 46, 7, 4, 2, 1029, 13, 104, 88, 4, 381, 15, 297, 98, 32, 2071, 56, 26, 141, 6, 194, 7486, 18, 4, 226, 22, 21, 134, 476, 26, 480, 5, 144, 30, 5535, 18, 51, 36, 28, 224, 92, 25, 104, 4, 226, 65, 16, 38, 1334, 88, 12, 16, 283, 5, 16, 4472, 113, 103, 32, 15, 16, 5345, 19, 178, 32]\n"
          ],
          "name": "stdout"
        }
      ]
    },
    {
      "metadata": {
        "id": "01CkFuiOkwiN",
        "colab_type": "code",
        "colab": {
          "base_uri": "https://localhost:8080/",
          "height": 34
        },
        "outputId": "08b4d301-0010-4a14-de8b-8e2c9bc7a053"
      },
      "cell_type": "code",
      "source": [
        "len(train_data[0]), len(train_data[1])"
      ],
      "execution_count": 6,
      "outputs": [
        {
          "output_type": "execute_result",
          "data": {
            "text/plain": [
              "(218, 189)"
            ]
          },
          "metadata": {
            "tags": []
          },
          "execution_count": 6
        }
      ]
    },
    {
      "metadata": {
        "id": "W1aXGRo1k623",
        "colab_type": "code",
        "colab": {}
      },
      "cell_type": "code",
      "source": [
        "# A dictionary mapping words to an integer index\n",
        "word_index = imdb.get_word_index()\n",
        "\n",
        "# The first indices are reserved\n",
        "word_index = {k:(v+3) for k, v in word_index.items()}\n",
        "word_index[\"<PAD>\"] = 0\n",
        "word_index[\"<START>\"] = 1\n",
        "word_index[\"<UNK>\"] = 2 #unknown\n",
        "word_index[\"<UNUSED>\"] = 3\n",
        "\n",
        "reverse_word_index = dict([(value, key) for (key, value) in word_index.items()])\n",
        "def decode_review(text):\n",
        "  return ' '.join([reverse_word_index.get(i, '?') for i in text])"
      ],
      "execution_count": 0,
      "outputs": []
    },
    {
      "metadata": {
        "id": "ElHHhbNomtjr",
        "colab_type": "code",
        "colab": {
          "base_uri": "https://localhost:8080/",
          "height": 54
        },
        "outputId": "4be9466e-c0ac-4eeb-c548-e1bb438752b1"
      },
      "cell_type": "code",
      "source": [
        "decode_review(train_data[0])\n"
      ],
      "execution_count": 11,
      "outputs": [
        {
          "output_type": "execute_result",
          "data": {
            "text/plain": [
              "\"<START> this film was just brilliant casting location scenery story direction everyone's really suited the part they played and you could just imagine being there robert <UNK> is an amazing actor and now the same being director <UNK> father came from the same scottish island as myself so i loved the fact there was a real connection with this film the witty remarks throughout the film were great it was just brilliant so much that i bought the film as soon as it was released for <UNK> and would recommend it to everyone to watch and the fly fishing was amazing really cried at the end it was so sad and you know what they say if you cry at a film it must have been good and this definitely was also <UNK> to the two little boy's that played the <UNK> of norman and paul they were just brilliant children are often left out of the <UNK> list i think because the stars that play them all grown up are such a big profile for the whole film but these children are amazing and should be praised for what they have done don't you think the whole story was so lovely because it was true and was someone's life after all that was shared with us all\""
            ]
          },
          "metadata": {
            "tags": []
          },
          "execution_count": 11
        }
      ]
    },
    {
      "metadata": {
        "id": "91ccjFXxnGVX",
        "colab_type": "code",
        "colab": {}
      },
      "cell_type": "code",
      "source": [
        "train_data = keras.preprocessing.sequence.pad_sequences(train_data, \n",
        "                                                      value = word_index[\"<PAD>\"],\n",
        "                                                      padding = 'post',\n",
        "                                                      maxlen = 256)\n",
        "test_data = keras.preprocessing.sequence.pad_sequences(test_data, \n",
        "                                                      value = word_index[\"<PAD>\"],\n",
        "                                                      padding = 'post',\n",
        "                                                      maxlen = 256)"
      ],
      "execution_count": 0,
      "outputs": []
    },
    {
      "metadata": {
        "id": "JaVSsAXvnoYq",
        "colab_type": "code",
        "colab": {
          "base_uri": "https://localhost:8080/",
          "height": 34
        },
        "outputId": "728859e9-bcd2-4714-f45b-0092b84642da"
      },
      "cell_type": "code",
      "source": [
        "len(train_data[0]), len(train_data[1])"
      ],
      "execution_count": 14,
      "outputs": [
        {
          "output_type": "execute_result",
          "data": {
            "text/plain": [
              "(256, 256)"
            ]
          },
          "metadata": {
            "tags": []
          },
          "execution_count": 14
        }
      ]
    },
    {
      "metadata": {
        "id": "a6dzDSyGn1N6",
        "colab_type": "code",
        "colab": {
          "base_uri": "https://localhost:8080/",
          "height": 340
        },
        "outputId": "9c8be41a-7cbd-4159-b659-64098d65d425"
      },
      "cell_type": "code",
      "source": [
        "print(train_data[0])"
      ],
      "execution_count": 15,
      "outputs": [
        {
          "output_type": "stream",
          "text": [
            "[   1   14   22   16   43  530  973 1622 1385   65  458 4468   66 3941\n",
            "    4  173   36  256    5   25  100   43  838  112   50  670    2    9\n",
            "   35  480  284    5  150    4  172  112  167    2  336  385   39    4\n",
            "  172 4536 1111   17  546   38   13  447    4  192   50   16    6  147\n",
            " 2025   19   14   22    4 1920 4613  469    4   22   71   87   12   16\n",
            "   43  530   38   76   15   13 1247    4   22   17  515   17   12   16\n",
            "  626   18    2    5   62  386   12    8  316    8  106    5    4 2223\n",
            " 5244   16  480   66 3785   33    4  130   12   16   38  619    5   25\n",
            "  124   51   36  135   48   25 1415   33    6   22   12  215   28   77\n",
            "   52    5   14  407   16   82    2    8    4  107  117 5952   15  256\n",
            "    4    2    7 3766    5  723   36   71   43  530  476   26  400  317\n",
            "   46    7    4    2 1029   13  104   88    4  381   15  297   98   32\n",
            " 2071   56   26  141    6  194 7486   18    4  226   22   21  134  476\n",
            "   26  480    5  144   30 5535   18   51   36   28  224   92   25  104\n",
            "    4  226   65   16   38 1334   88   12   16  283    5   16 4472  113\n",
            "  103   32   15   16 5345   19  178   32    0    0    0    0    0    0\n",
            "    0    0    0    0    0    0    0    0    0    0    0    0    0    0\n",
            "    0    0    0    0    0    0    0    0    0    0    0    0    0    0\n",
            "    0    0    0    0]\n"
          ],
          "name": "stdout"
        }
      ]
    },
    {
      "metadata": {
        "id": "tPOMcyxkn69h",
        "colab_type": "code",
        "colab": {
          "base_uri": "https://localhost:8080/",
          "height": 272
        },
        "outputId": "4ecb9d51-06e8-4c38-d27a-fbb37aa9efa2"
      },
      "cell_type": "code",
      "source": [
        "# input shape is the vocabulary count used for the movie reviews (10,000 words)\n",
        "vocab_size = 10000\n",
        "\n",
        "model = keras.Sequential()\n",
        "model.add(keras.layers.Embedding(vocab_size, 16))\n",
        "model.add(keras.layers.GlobalAveragePooling1D())\n",
        "model.add(keras.layers.Dense(16, activation=tf.nn.relu))\n",
        "model.add(keras.layers.Dense(1, activation=tf.nn.sigmoid))\n",
        "\n",
        "model.summary()"
      ],
      "execution_count": 16,
      "outputs": [
        {
          "output_type": "stream",
          "text": [
            "_________________________________________________________________\n",
            "Layer (type)                 Output Shape              Param #   \n",
            "=================================================================\n",
            "embedding (Embedding)        (None, None, 16)          160000    \n",
            "_________________________________________________________________\n",
            "global_average_pooling1d (Gl (None, 16)                0         \n",
            "_________________________________________________________________\n",
            "dense (Dense)                (None, 16)                272       \n",
            "_________________________________________________________________\n",
            "dense_1 (Dense)              (None, 1)                 17        \n",
            "=================================================================\n",
            "Total params: 160,289\n",
            "Trainable params: 160,289\n",
            "Non-trainable params: 0\n",
            "_________________________________________________________________\n"
          ],
          "name": "stdout"
        }
      ]
    },
    {
      "metadata": {
        "id": "4-3iMwnjo8WH",
        "colab_type": "code",
        "colab": {}
      },
      "cell_type": "code",
      "source": [
        "model.compile(optimizer = tf.train.AdamOptimizer(),\n",
        "             loss = 'binary_crossentropy',\n",
        "             metrics = ['accuracy'])"
      ],
      "execution_count": 0,
      "outputs": []
    },
    {
      "metadata": {
        "id": "d913Ac2FpJ9h",
        "colab_type": "code",
        "colab": {}
      },
      "cell_type": "code",
      "source": [
        "x_val = train_data[:10000]\n",
        "partial_x_train = train_data[10000:]\n",
        "\n",
        "y_val = train_labels[:10000]\n",
        "partial_y_train = train_labels[10000:]\n"
      ],
      "execution_count": 0,
      "outputs": []
    },
    {
      "metadata": {
        "id": "MR6RwvX_pgyr",
        "colab_type": "code",
        "colab": {
          "base_uri": "https://localhost:8080/",
          "height": 1414
        },
        "outputId": "8bc04fca-3d16-438f-9308-c1ea85d54293"
      },
      "cell_type": "code",
      "source": [
        "history = model.fit(partial_x_train,\n",
        "                   partial_y_train,\n",
        "                   epochs = 40,\n",
        "                   batch_size = 512,\n",
        "                   validation_data = (x_val, y_val),\n",
        "                   verbose = 1)"
      ],
      "execution_count": 19,
      "outputs": [
        {
          "output_type": "stream",
          "text": [
            "Train on 15000 samples, validate on 10000 samples\n",
            "Epoch 1/40\n",
            "15000/15000 [==============================] - 1s 74us/step - loss: 0.7096 - acc: 0.5081 - val_loss: 0.6927 - val_acc: 0.5069\n",
            "Epoch 2/40\n",
            "15000/15000 [==============================] - 1s 63us/step - loss: 0.6919 - acc: 0.5132 - val_loss: 0.6906 - val_acc: 0.5620\n",
            "Epoch 3/40\n",
            "15000/15000 [==============================] - 1s 61us/step - loss: 0.6890 - acc: 0.6059 - val_loss: 0.6885 - val_acc: 0.6174\n",
            "Epoch 4/40\n",
            "15000/15000 [==============================] - 1s 63us/step - loss: 0.6865 - acc: 0.6480 - val_loss: 0.6861 - val_acc: 0.6419\n",
            "Epoch 5/40\n",
            "15000/15000 [==============================] - 1s 62us/step - loss: 0.6836 - acc: 0.6503 - val_loss: 0.6831 - val_acc: 0.7187\n",
            "Epoch 6/40\n",
            "15000/15000 [==============================] - 1s 61us/step - loss: 0.6802 - acc: 0.7481 - val_loss: 0.6797 - val_acc: 0.7433\n",
            "Epoch 7/40\n",
            "15000/15000 [==============================] - 1s 61us/step - loss: 0.6758 - acc: 0.7627 - val_loss: 0.6754 - val_acc: 0.7137\n",
            "Epoch 8/40\n",
            "15000/15000 [==============================] - 1s 62us/step - loss: 0.6701 - acc: 0.7611 - val_loss: 0.6692 - val_acc: 0.7533\n",
            "Epoch 9/40\n",
            "12800/15000 [========================>.....] - ETA: 0s - loss: 0.6626 - acc: 0.7774"
          ],
          "name": "stdout"
        },
        {
          "output_type": "stream",
          "text": [
            "15000/15000 [==============================] - 1s 61us/step - loss: 0.6622 - acc: 0.7752 - val_loss: 0.6607 - val_acc: 0.7597\n",
            "Epoch 10/40\n",
            "15000/15000 [==============================] - 1s 61us/step - loss: 0.6516 - acc: 0.7803 - val_loss: 0.6496 - val_acc: 0.7585\n",
            "Epoch 11/40\n",
            "15000/15000 [==============================] - 1s 61us/step - loss: 0.6384 - acc: 0.7641 - val_loss: 0.6357 - val_acc: 0.7650\n",
            "Epoch 12/40\n",
            "15000/15000 [==============================] - 1s 61us/step - loss: 0.6207 - acc: 0.7869 - val_loss: 0.6181 - val_acc: 0.7687\n",
            "Epoch 13/40\n",
            "15000/15000 [==============================] - 1s 61us/step - loss: 0.5992 - acc: 0.7913 - val_loss: 0.5987 - val_acc: 0.7736\n",
            "Epoch 14/40\n",
            "15000/15000 [==============================] - 1s 61us/step - loss: 0.5749 - acc: 0.7971 - val_loss: 0.5745 - val_acc: 0.7890\n",
            "Epoch 15/40\n",
            "15000/15000 [==============================] - 1s 61us/step - loss: 0.5476 - acc: 0.8075 - val_loss: 0.5487 - val_acc: 0.7960\n",
            "Epoch 16/40\n",
            "15000/15000 [==============================] - 1s 62us/step - loss: 0.5195 - acc: 0.8162 - val_loss: 0.5234 - val_acc: 0.8006\n",
            "Epoch 17/40\n",
            "15000/15000 [==============================] - 1s 62us/step - loss: 0.4904 - acc: 0.8305 - val_loss: 0.4981 - val_acc: 0.8149\n",
            "Epoch 18/40\n",
            " 5632/15000 [==========>...................] - ETA: 0s - loss: 0.4713 - acc: 0.8361"
          ],
          "name": "stdout"
        },
        {
          "output_type": "stream",
          "text": [
            "15000/15000 [==============================] - 1s 62us/step - loss: 0.4623 - acc: 0.8406 - val_loss: 0.4733 - val_acc: 0.8228\n",
            "Epoch 19/40\n",
            "15000/15000 [==============================] - 1s 61us/step - loss: 0.4356 - acc: 0.8495 - val_loss: 0.4503 - val_acc: 0.8322\n",
            "Epoch 20/40\n",
            "15000/15000 [==============================] - 1s 61us/step - loss: 0.4109 - acc: 0.8599 - val_loss: 0.4295 - val_acc: 0.8381\n",
            "Epoch 21/40\n",
            "15000/15000 [==============================] - 1s 61us/step - loss: 0.3879 - acc: 0.8671 - val_loss: 0.4107 - val_acc: 0.8466\n",
            "Epoch 22/40\n",
            "15000/15000 [==============================] - 1s 61us/step - loss: 0.3674 - acc: 0.8737 - val_loss: 0.3942 - val_acc: 0.8518\n",
            "Epoch 23/40\n",
            "15000/15000 [==============================] - 1s 61us/step - loss: 0.3494 - acc: 0.8799 - val_loss: 0.3802 - val_acc: 0.8544\n",
            "Epoch 24/40\n",
            "15000/15000 [==============================] - 1s 61us/step - loss: 0.3328 - acc: 0.8834 - val_loss: 0.3678 - val_acc: 0.8583\n",
            "Epoch 25/40\n",
            "15000/15000 [==============================] - 1s 63us/step - loss: 0.3184 - acc: 0.8894 - val_loss: 0.3572 - val_acc: 0.8620\n",
            "Epoch 26/40\n",
            "15000/15000 [==============================] - 1s 62us/step - loss: 0.3054 - acc: 0.8921 - val_loss: 0.3482 - val_acc: 0.8651\n",
            "Epoch 27/40\n",
            " 3584/15000 [======>.......................] - ETA: 0s - loss: 0.2953 - acc: 0.9001"
          ],
          "name": "stdout"
        },
        {
          "output_type": "stream",
          "text": [
            "15000/15000 [==============================] - 1s 62us/step - loss: 0.2940 - acc: 0.8955 - val_loss: 0.3403 - val_acc: 0.8663\n",
            "Epoch 28/40\n",
            "15000/15000 [==============================] - 1s 63us/step - loss: 0.2832 - acc: 0.9012 - val_loss: 0.3332 - val_acc: 0.8681\n",
            "Epoch 29/40\n",
            "15000/15000 [==============================] - 1s 62us/step - loss: 0.2736 - acc: 0.9035 - val_loss: 0.3276 - val_acc: 0.8698\n",
            "Epoch 30/40\n",
            "15000/15000 [==============================] - 1s 62us/step - loss: 0.2655 - acc: 0.9041 - val_loss: 0.3221 - val_acc: 0.8723\n",
            "Epoch 31/40\n",
            "15000/15000 [==============================] - 1s 63us/step - loss: 0.2565 - acc: 0.9084 - val_loss: 0.3177 - val_acc: 0.8741\n",
            "Epoch 32/40\n",
            "15000/15000 [==============================] - 1s 61us/step - loss: 0.2496 - acc: 0.9099 - val_loss: 0.3137 - val_acc: 0.8764\n",
            "Epoch 33/40\n",
            "15000/15000 [==============================] - 1s 63us/step - loss: 0.2417 - acc: 0.9141 - val_loss: 0.3102 - val_acc: 0.8777\n",
            "Epoch 34/40\n",
            "15000/15000 [==============================] - 1s 63us/step - loss: 0.2350 - acc: 0.9160 - val_loss: 0.3070 - val_acc: 0.8796\n",
            "Epoch 35/40\n",
            "15000/15000 [==============================] - 1s 62us/step - loss: 0.2291 - acc: 0.9174 - val_loss: 0.3041 - val_acc: 0.8804\n",
            "Epoch 36/40\n",
            " 3584/15000 [======>.......................] - ETA: 0s - loss: 0.2304 - acc: 0.9174"
          ],
          "name": "stdout"
        },
        {
          "output_type": "stream",
          "text": [
            "15000/15000 [==============================] - 1s 62us/step - loss: 0.2225 - acc: 0.9208 - val_loss: 0.3017 - val_acc: 0.8799\n",
            "Epoch 37/40\n",
            "15000/15000 [==============================] - 1s 63us/step - loss: 0.2168 - acc: 0.9224 - val_loss: 0.2998 - val_acc: 0.8792\n",
            "Epoch 38/40\n",
            "15000/15000 [==============================] - 1s 63us/step - loss: 0.2114 - acc: 0.9247 - val_loss: 0.2974 - val_acc: 0.8808\n",
            "Epoch 39/40\n",
            "15000/15000 [==============================] - 1s 62us/step - loss: 0.2058 - acc: 0.9270 - val_loss: 0.2956 - val_acc: 0.8816\n",
            "Epoch 40/40\n",
            "15000/15000 [==============================] - 1s 63us/step - loss: 0.2008 - acc: 0.9285 - val_loss: 0.2939 - val_acc: 0.8812\n"
          ],
          "name": "stdout"
        }
      ]
    },
    {
      "metadata": {
        "id": "zGgH3dBpp8TP",
        "colab_type": "code",
        "colab": {
          "base_uri": "https://localhost:8080/",
          "height": 51
        },
        "outputId": "adf7c5f1-691d-479b-990a-13962d69d648"
      },
      "cell_type": "code",
      "source": [
        "results = model.evaluate(test_data, test_labels)\n",
        "\n",
        "print(results)"
      ],
      "execution_count": 20,
      "outputs": [
        {
          "output_type": "stream",
          "text": [
            "25000/25000 [==============================] - 1s 33us/step\n",
            "[0.30788773963928223, 0.87392]\n"
          ],
          "name": "stdout"
        }
      ]
    },
    {
      "metadata": {
        "id": "op5HNEStqIh-",
        "colab_type": "code",
        "colab": {
          "base_uri": "https://localhost:8080/",
          "height": 34
        },
        "outputId": "727be98f-7140-47fc-f372-b8d483cfc760"
      },
      "cell_type": "code",
      "source": [
        "history_dict = history.history\n",
        "history_dict.keys()\n"
      ],
      "execution_count": 21,
      "outputs": [
        {
          "output_type": "execute_result",
          "data": {
            "text/plain": [
              "dict_keys(['val_loss', 'val_acc', 'loss', 'acc'])"
            ]
          },
          "metadata": {
            "tags": []
          },
          "execution_count": 21
        }
      ]
    },
    {
      "metadata": {
        "id": "yE9ysYonqZ8_",
        "colab_type": "code",
        "colab": {
          "base_uri": "https://localhost:8080/",
          "height": 376
        },
        "outputId": "84033692-f9db-4294-fc84-07e23afb2c3f"
      },
      "cell_type": "code",
      "source": [
        "import matplotlib.pyplot as plt\n",
        "\n",
        "acc = history.history['acc']\n",
        "val_acc = history.history['val_acc']\n",
        "loss = history.history['loss']\n",
        "val_loss = history.history['val_loss']\n",
        "\n",
        "epochs = range(1, len(acc) + 1)\n",
        "\n",
        "# \"bo\" is for \"blue dot\"\n",
        "plt.plot(epochs, loss, 'bo', label='Training loss')\n",
        "# b is for \"solid blue line\"\n",
        "plt.plot(epochs, val_loss, 'b', label='Validation loss')\n",
        "plt.title('Training and validation loss')\n",
        "plt.xlabel('Epochs')\n",
        "plt.ylabel('Loss')\n",
        "plt.legend()\n",
        "\n",
        "plt.show()\n"
      ],
      "execution_count": 23,
      "outputs": [
        {
          "output_type": "display_data",
          "data": {
            "image/png": "[encoded data removed]",
            "text/plain": [
              "<matplotlib.figure.Figure at 0x7f2d0d641f28>"
            ]
          },
          "metadata": {
            "tags": []
          }
        }
      ]
    }
  ]
}